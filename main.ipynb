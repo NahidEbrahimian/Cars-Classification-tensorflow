{
  "nbformat": 4,
  "nbformat_minor": 0,
  "metadata": {
    "colab": {
      "name": "ImageClassification-using-MobileNet.ipynb",
      "provenance": [],
      "collapsed_sections": []
    },
    "kernelspec": {
      "name": "python3",
      "display_name": "Python 3"
    },
    "language_info": {
      "name": "python"
    }
  },
  "cells": [
    {
      "cell_type": "code",
      "metadata": {
        "id": "Nu4auDIHIHmP",
        "colab": {
          "base_uri": "https://localhost:8080/"
        },
        "outputId": "0bcd1509-9b74-4d89-8470-a3389185c721"
      },
      "source": [
        "cd /content/drive/MyDrive/ImageClassification-using-MobileNet"
      ],
      "execution_count": 1,
      "outputs": [
        {
          "output_type": "stream",
          "name": "stdout",
          "text": [
            "/content/drive/MyDrive/ImageClassification-using-MobileNet\n"
          ]
        }
      ]
    },
    {
      "cell_type": "code",
      "metadata": {
        "id": "r3b9mvt7BGGl"
      },
      "source": [
        "from config import *\n",
        "from tensorflow.keras.optimizers import Adam, SGD, Adadelta\n",
        "import os\n",
        "import json\n",
        "from CreateModel import Model\n",
        "from PreprocessingData import train_DataGenerator, test_DataGenerator\n",
        "import numpy as np\n",
        "import tensorflow as tf\n",
        "\n",
        "path = options['path']"
      ],
      "execution_count": 2,
      "outputs": []
    },
    {
      "cell_type": "code",
      "metadata": {
        "id": "3TxQx1BDfobi"
      },
      "source": [
        "# -----> preprocess data\n",
        "\n",
        "train_data, label_map  = train_DataGenerator(options)\n",
        "validation_data = test_DataGenerator(options)\n",
        "np.save('label_map.npy', label_map) \n"
      ],
      "execution_count": null,
      "outputs": []
    },
    {
      "cell_type": "code",
      "metadata": {
        "id": "hH-HMhkdftVY"
      },
      "source": [
        "# -----> load mode and compile\n",
        "\n",
        "model = Model(options)\n",
        "\n",
        "model.compile(optimizer=Adam(learning_rate = 0.0001), loss='categorical_crossentropy',\n",
        "                metrics=['accuracy'])\n",
        "\n"
      ],
      "execution_count": null,
      "outputs": []
    },
    {
      "cell_type": "code",
      "metadata": {
        "id": "wPfTvGFf_Xjv"
      },
      "source": [
        "# -----> fit and svae model and weights\n",
        "\n",
        "net_weights = os.path.join(path, \"Train/weight/Weights.hdf5\")\n",
        "\n",
        "callbacks =[\n",
        "    tf.keras.callbacks.ModelCheckpoint(filepath = net_weights, save_best_only = True),\n",
        "    tf.keras.callbacks.EarlyStopping(patience = 50, restore_best_weights=True)\n",
        "          ]\n",
        "\n",
        "batch_size = options['batch_size']\n",
        "model = model.fit(\n",
        "              train_data,\n",
        "              steps_per_epoch = train_data.samples // batch_size,\n",
        "              epochs = 250,\n",
        "              validation_data = validation_data, \n",
        "              validation_steps = validation_data.samples // batch_size,    \n",
        "              shuffle = True,\n",
        "              callbacks=callbacks)\n",
        "\n",
        "model.save(os.path.join(path, \"Train/model/model.h5\"))"
      ],
      "execution_count": null,
      "outputs": []
    }
  ]
}